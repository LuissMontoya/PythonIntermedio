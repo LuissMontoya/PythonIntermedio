{
  "nbformat": 4,
  "nbformat_minor": 0,
  "metadata": {
    "colab": {
      "provenance": [],
      "include_colab_link": true
    },
    "kernelspec": {
      "name": "python3",
      "display_name": "Python 3"
    },
    "language_info": {
      "name": "python"
    }
  },
  "cells": [
    {
      "cell_type": "markdown",
      "metadata": {
        "id": "view-in-github",
        "colab_type": "text"
      },
      "source": [
        "<a href=\"https://colab.research.google.com/github/LuissMontoya/PythonIntermedio/blob/master/EjercicoNum.ipynb\" target=\"_parent\"><img src=\"https://colab.research.google.com/assets/colab-badge.svg\" alt=\"Open In Colab\"/></a>"
      ]
    },
    {
      "cell_type": "code",
      "execution_count": 2,
      "metadata": {
        "colab": {
          "base_uri": "https://localhost:8080/"
        },
        "id": "lFlLM1eKef1z",
        "outputId": "d7530c15-c7e0-4f86-85f4-adffeb9e4e8d"
      },
      "outputs": [
        {
          "output_type": "stream",
          "name": "stdout",
          "text": [
            "Introduzca notas entre 0 y 5, digite fin para salir 4\n",
            "Nota 1 = 4.0\n",
            "Introduzca notas entre 0 y 5, digite fin para salir 5\n",
            "Nota 2 = 5.0\n",
            "Introduzca notas entre 0 y 5, digite fin para salir 7\n",
            "No es una nota válida. Introduzca nota para poder calcular 7.0\n",
            "Introduzca notas entre 0 y 5, digite fin para salir asd\n",
            "asd\n",
            "Introduzca notas entre 0 y 5, digite fin para salir 7\n",
            "No es una nota válida. Introduzca nota para poder calcular 7.0\n",
            "Introduzca notas entre 0 y 5, digite fin para salir fin\n",
            "fin\n",
            "Total:  9.0\n",
            "Cantidad de Números:  2\n",
            "Media:  4.5\n"
          ]
        }
      ],
      "source": [
        "i = 0\n",
        "sum = 0\n",
        "n1 = \"inicio\"\n",
        "while n1 != \"fin\":\n",
        "    n1 = input(\"Introduzca notas entre 0 y 5, digite fin para salir \")\n",
        "    try:\n",
        "        n= float(n1)\n",
        "        if n >= 0 and n <= 5:\n",
        "            i = i + 1\n",
        "            print(\"Nota\",i,\"=\",n)\n",
        "            sum = sum + n\n",
        "        else:\n",
        "            print(\"No es una nota válida. Introduzca nota para poder calcular\", n)\n",
        "    except:\n",
        "           print( n1)\n",
        "       \n",
        "if i == 0:    \n",
        "    print(\"No se introdujeron notas\")\n",
        "\n",
        "if n1 == \"fin\":\n",
        "    print(\"Total: \",sum)\n",
        "    print(\"Cantidad de Números: \",i)\n",
        "    print(\"Media: \",(sum/i))\n",
        "\n"
      ]
    },
    {
      "cell_type": "code",
      "source": [],
      "metadata": {
        "id": "JmWPwKSbf751"
      },
      "execution_count": null,
      "outputs": []
    },
    {
      "cell_type": "markdown",
      "source": [
        "# 2. Ejercicio"
      ],
      "metadata": {
        "id": "w5tTpbavh4CE"
      }
    },
    {
      "cell_type": "code",
      "source": [
        "cant = 0\n",
        "acum = 0\n",
        "opc = \"inicio\"\n",
        "lista = []\n",
        "while opc != \"fin\":\n",
        "  try:\n",
        "    opc = input(\"Introduzca un Número: \")\n",
        "    if opc == 'fin':\n",
        "      break\n",
        "    else:\n",
        "      number= opc\n",
        "\n",
        "    if number.isnumeric() or float(number):\n",
        "        lista.append(float(number))\n",
        "  except ValueError:\n",
        "      print('No es un Número')\n",
        "    \n",
        "if opc == \"fin\":\n",
        "  print('\\nImprimir Lista: ')\n",
        "  print('-------------------')\n",
        "  print(\"Lista desordenada: \", lista)\n",
        "  listaOrdenada = sorted(lista)\n",
        "  print(\"Lista Ordenada: \", listaOrdenada)\n",
        "\n",
        "  print(\"El número Menor es: \",listaOrdenada[0])\n",
        "  print(\"El número Mayor es: \",listaOrdenada[len(listaOrdenada)-1])\n",
        "  \n"
      ],
      "metadata": {
        "colab": {
          "base_uri": "https://localhost:8080/"
        },
        "id": "AyCqBTQbf8mr",
        "outputId": "777c5f72-7c6f-4c1c-f308-f7d938c40d87"
      },
      "execution_count": 55,
      "outputs": [
        {
          "output_type": "stream",
          "name": "stdout",
          "text": [
            "Introduzca un Número: 12\n",
            "Introduzca un Número: 3.5\n",
            "Introduzca un Número: 3.1\n",
            "Introduzca un Número: 23\n",
            "Introduzca un Número: 12\n",
            "Introduzca un Número: 44\n",
            "Introduzca un Número: fin\n",
            "\n",
            "Imprimir Lista: \n",
            "-------------------\n",
            "Lista desordenada:  [12.0, 3.5, 3.1, 23.0, 12.0, 44.0]\n",
            "Lista Ordenada:  [3.1, 3.5, 12.0, 12.0, 23.0, 44.0]\n",
            "El número Menor es:  3.1\n",
            "El número Mayor es:  44.0\n"
          ]
        }
      ]
    }
  ]
}